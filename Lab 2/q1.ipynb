{
 "cells": [
  {
   "cell_type": "code",
   "execution_count": 19,
   "id": "099b676f-805b-4123-82fe-6465a7ee7cd1",
   "metadata": {},
   "outputs": [],
   "source": [
    "import torch"
   ]
  },
  {
   "cell_type": "code",
   "execution_count": 20,
   "id": "1be99a3e-9d22-4d35-b310-bddec46b11cb",
   "metadata": {},
   "outputs": [],
   "source": [
    "a = torch.tensor(2.0,requires_grad=True)\n",
    "b = torch.tensor(2.0,requires_grad=True)"
   ]
  },
  {
   "cell_type": "code",
   "execution_count": 21,
   "id": "414d4848-9eff-4132-b6a4-3a5e57923e1e",
   "metadata": {},
   "outputs": [
    {
     "name": "stdout",
     "output_type": "stream",
     "text": [
      "x =  tensor(10., grad_fn=<AddBackward0>)\n",
      "y = 5*a*a + 3*b*b*b =  tensor(44., grad_fn=<AddBackward0>)\n",
      "z = 2*x + 3*y =  tensor(152., grad_fn=<AddBackward0>)\n"
     ]
    }
   ],
   "source": [
    "x = 2*a + 3*b\n",
    "y = 5*a*a + 3*b*b*b\n",
    "z = 2*x + 3*y\n",
    "\n",
    "print('x = ',x)\n",
    "print('y = 5*a*a + 3*b*b*b = ',y)\n",
    "print('z = 2*x + 3*y = ',z)"
   ]
  },
  {
   "cell_type": "markdown",
   "id": "58ab804b-ce0b-4ad0-aa5f-3c823220b484",
   "metadata": {},
   "source": [
    "#### Analytical"
   ]
  },
  {
   "cell_type": "code",
   "execution_count": 22,
   "id": "8e0d48cd-6947-4f40-acd6-3f2e7b02a8ed",
   "metadata": {},
   "outputs": [
    {
     "name": "stdout",
     "output_type": "stream",
     "text": [
      "dz/da =  tensor(64., grad_fn=<AddBackward0>)\n"
     ]
    }
   ],
   "source": [
    "dx_da = 2\n",
    "dz_dx = 2\n",
    "dy_da = 10*a\n",
    "dz_dy = 3\n",
    "\n",
    "dz_da = (dz_dx * dx_da) + (dz_dy * dy_da)\n",
    "print('dz/da = ',dz_da)"
   ]
  },
  {
   "cell_type": "markdown",
   "id": "8b1a9a78-d7d9-4ce4-bab1-8826fd414193",
   "metadata": {},
   "source": [
    "#### Automatic"
   ]
  },
  {
   "cell_type": "code",
   "execution_count": 23,
   "id": "09f7cade-61e1-4297-8942-ccf981f9b895",
   "metadata": {},
   "outputs": [
    {
     "name": "stdout",
     "output_type": "stream",
     "text": [
      "dz/da =  tensor(64.)\n"
     ]
    }
   ],
   "source": [
    "z.backward()\n",
    "print('dz/da = ',a.grad)"
   ]
  }
 ],
 "metadata": {
  "kernelspec": {
   "display_name": "Python 3 (ipykernel)",
   "language": "python",
   "name": "python3"
  },
  "language_info": {
   "codemirror_mode": {
    "name": "ipython",
    "version": 3
   },
   "file_extension": ".py",
   "mimetype": "text/x-python",
   "name": "python",
   "nbconvert_exporter": "python",
   "pygments_lexer": "ipython3",
   "version": "3.11.7"
  }
 },
 "nbformat": 4,
 "nbformat_minor": 5
}
