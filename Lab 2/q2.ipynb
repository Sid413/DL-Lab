{
 "cells": [
  {
   "cell_type": "code",
   "execution_count": 7,
   "id": "af63cae9-7399-47a6-9db0-9c446910dd9f",
   "metadata": {},
   "outputs": [],
   "source": [
    "import torch"
   ]
  },
  {
   "cell_type": "code",
   "execution_count": 8,
   "id": "a6310509-2b4e-42e1-9609-eb25a2cf0d3d",
   "metadata": {},
   "outputs": [],
   "source": [
    "b = torch.tensor(1.0,requires_grad=True)\n",
    "x = torch.tensor(2.0,requires_grad=True)\n",
    "w = torch.tensor(3.0,requires_grad=True)"
   ]
  },
  {
   "cell_type": "code",
   "execution_count": 9,
   "id": "a0abeb98-b06e-4a9f-9347-ec1d73e647c5",
   "metadata": {},
   "outputs": [
    {
     "name": "stdout",
     "output_type": "stream",
     "text": [
      "w * x =  tensor(6., grad_fn=<MulBackward0>)\n",
      "u + b =  tensor(7., grad_fn=<AddBackward0>)\n",
      "relu(v) =  tensor(7., grad_fn=<ReluBackward0>)\n"
     ]
    }
   ],
   "source": [
    "u = w * x\n",
    "v = u + b\n",
    "a = torch.relu(v)\n",
    "\n",
    "print('w * x = ',u)\n",
    "print('u + b = ',v)\n",
    "print('relu(v) = ',a)"
   ]
  },
  {
   "cell_type": "markdown",
   "id": "c4238f4b-3033-4b47-b070-eca90073c605",
   "metadata": {},
   "source": [
    "#### Analytical"
   ]
  },
  {
   "cell_type": "code",
   "execution_count": 10,
   "id": "5b8aa962-eb48-474e-8179-c9c488554b38",
   "metadata": {},
   "outputs": [
    {
     "name": "stdout",
     "output_type": "stream",
     "text": [
      "da/dw =  tensor(2., grad_fn=<MulBackward0>)\n"
     ]
    }
   ],
   "source": [
    "du_dw = x\n",
    "dv_du = 1\n",
    "da_dv = 1\n",
    "\n",
    "da_dw = da_dv * dv_du * du_dw\n",
    "print('da/dw = ',da_dw)"
   ]
  },
  {
   "cell_type": "markdown",
   "id": "8dc0d0f0-0680-4e29-b72f-ebc73a182383",
   "metadata": {},
   "source": [
    "#### Automatic"
   ]
  },
  {
   "cell_type": "code",
   "execution_count": 11,
   "id": "d5057c6f-1ef4-45cf-a635-13296ab536d8",
   "metadata": {},
   "outputs": [
    {
     "name": "stdout",
     "output_type": "stream",
     "text": [
      "da/dw =  tensor(2.)\n"
     ]
    }
   ],
   "source": [
    "a.backward()\n",
    "print('da/dw = ',w.grad)"
   ]
  }
 ],
 "metadata": {
  "kernelspec": {
   "display_name": "Python 3 (ipykernel)",
   "language": "python",
   "name": "python3"
  },
  "language_info": {
   "codemirror_mode": {
    "name": "ipython",
    "version": 3
   },
   "file_extension": ".py",
   "mimetype": "text/x-python",
   "name": "python",
   "nbconvert_exporter": "python",
   "pygments_lexer": "ipython3",
   "version": "3.11.7"
  }
 },
 "nbformat": 4,
 "nbformat_minor": 5
}
