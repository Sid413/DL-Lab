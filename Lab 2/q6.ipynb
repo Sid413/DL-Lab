{
 "cells": [
  {
   "cell_type": "code",
   "execution_count": 30,
   "id": "b6276e0d-04eb-4d4a-9e3d-bbe9033494b4",
   "metadata": {},
   "outputs": [],
   "source": [
    "import torch"
   ]
  },
  {
   "cell_type": "code",
   "execution_count": 31,
   "id": "2f0071e8-ae11-48bf-8d86-62a9d08401f1",
   "metadata": {},
   "outputs": [],
   "source": [
    "x = torch.tensor(5.0,requires_grad=True)\n",
    "y = torch.tensor(2.0,requires_grad=True)\n",
    "z = torch.tensor(2.0,requires_grad=True)"
   ]
  },
  {
   "cell_type": "code",
   "execution_count": 32,
   "id": "422f43ba-9f54-408e-8a8c-3a85aeb93f53",
   "metadata": {},
   "outputs": [],
   "source": [
    "f = torch.tanh(torch.log(1 + z*((2*x)/torch.sin(y))))"
   ]
  },
  {
   "cell_type": "code",
   "execution_count": 33,
   "id": "35cab817-7513-425d-b09e-374f925998c1",
   "metadata": {},
   "outputs": [
    {
     "name": "stdout",
     "output_type": "stream",
     "text": [
      "df/dy =  tensor(0.0033, grad_fn=<MulBackward0>)\n"
     ]
    }
   ],
   "source": [
    "a = 2*x\n",
    "b = torch.sin(y)\n",
    "c = a/b\n",
    "d = c*z\n",
    "e = torch.log(1 + d)\n",
    "f = torch.tanh(e)\n",
    "\n",
    "\n",
    "db_dy = torch.cos(y)\n",
    "dc_da = 1/b\n",
    "dc_db = -a/(b*b)\n",
    "dd_dc = z\n",
    "de_dd = 1/(1+d)\n",
    "df_de = 1 - (torch.tanh(e))**2\n",
    "\n",
    "df_dy = df_de*de_dd*dd_dc*dc_db*db_dy \n",
    "\n",
    "print('df/dy = ',df_dy)"
   ]
  },
  {
   "cell_type": "markdown",
   "id": "dc4cadd3-0b13-4c95-ba92-f95b44c29e74",
   "metadata": {},
   "source": [
    "#### Analytical"
   ]
  },
  {
   "cell_type": "markdown",
   "id": "84df63c9-9203-4a14-b0ec-2955202984a0",
   "metadata": {},
   "source": [
    "#### Automatic"
   ]
  },
  {
   "cell_type": "code",
   "execution_count": 34,
   "id": "52405fa2-16e5-4d3c-9da8-4f6efc666e3e",
   "metadata": {},
   "outputs": [
    {
     "name": "stdout",
     "output_type": "stream",
     "text": [
      "df/da =  tensor(0.0033)\n"
     ]
    }
   ],
   "source": [
    "f.backward()\n",
    "print('df/da = ',y.grad)"
   ]
  }
 ],
 "metadata": {
  "kernelspec": {
   "display_name": "Python 3 (ipykernel)",
   "language": "python",
   "name": "python3"
  },
  "language_info": {
   "codemirror_mode": {
    "name": "ipython",
    "version": 3
   },
   "file_extension": ".py",
   "mimetype": "text/x-python",
   "name": "python",
   "nbconvert_exporter": "python",
   "pygments_lexer": "ipython3",
   "version": "3.11.7"
  }
 },
 "nbformat": 4,
 "nbformat_minor": 5
}
