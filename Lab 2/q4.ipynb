{
 "cells": [
  {
   "cell_type": "code",
   "execution_count": 23,
   "id": "b6276e0d-04eb-4d4a-9e3d-bbe9033494b4",
   "metadata": {},
   "outputs": [],
   "source": [
    "import torch"
   ]
  },
  {
   "cell_type": "code",
   "execution_count": 24,
   "id": "2f0071e8-ae11-48bf-8d86-62a9d08401f1",
   "metadata": {},
   "outputs": [],
   "source": [
    "x = torch.tensor(2.0,requires_grad=True)"
   ]
  },
  {
   "cell_type": "code",
   "execution_count": 25,
   "id": "422f43ba-9f54-408e-8a8c-3a85aeb93f53",
   "metadata": {},
   "outputs": [],
   "source": [
    "f = torch.exp(-x*x - 2*x - torch.sin(x))"
   ]
  },
  {
   "cell_type": "markdown",
   "id": "dc4cadd3-0b13-4c95-ba92-f95b44c29e74",
   "metadata": {},
   "source": [
    "#### Analytical"
   ]
  },
  {
   "cell_type": "code",
   "execution_count": 26,
   "id": "35cab817-7513-425d-b09e-374f925998c1",
   "metadata": {},
   "outputs": [
    {
     "name": "stdout",
     "output_type": "stream",
     "text": [
      "df/dx =  tensor(-0.0008, grad_fn=<AddBackward0>)\n"
     ]
    }
   ],
   "source": [
    "a = x*x\n",
    "b = 2*x\n",
    "c = torch.sin(x)\n",
    "d = - a - b - c\n",
    "f = torch.exp(d)\n",
    "\n",
    "dd_da = -2*x\n",
    "dd_db = -2\n",
    "dd_dc = -torch.cos(x)\n",
    "df_dd = torch.exp(d)\n",
    "\n",
    "df_dx = df_dd*dd_da + df_dd*dd_db + df_dd*dd_dc \n",
    "\n",
    "print('df/dx = ',df_dx)"
   ]
  },
  {
   "cell_type": "markdown",
   "id": "84df63c9-9203-4a14-b0ec-2955202984a0",
   "metadata": {},
   "source": [
    "#### Automatic"
   ]
  },
  {
   "cell_type": "code",
   "execution_count": 27,
   "id": "52405fa2-16e5-4d3c-9da8-4f6efc666e3e",
   "metadata": {},
   "outputs": [
    {
     "name": "stdout",
     "output_type": "stream",
     "text": [
      "df/dx =  tensor(-0.0008)\n"
     ]
    }
   ],
   "source": [
    "f.backward()\n",
    "print('df/dx = ',x.grad)"
   ]
  }
 ],
 "metadata": {
  "kernelspec": {
   "display_name": "Python 3 (ipykernel)",
   "language": "python",
   "name": "python3"
  },
  "language_info": {
   "codemirror_mode": {
    "name": "ipython",
    "version": 3
   },
   "file_extension": ".py",
   "mimetype": "text/x-python",
   "name": "python",
   "nbconvert_exporter": "python",
   "pygments_lexer": "ipython3",
   "version": "3.11.7"
  }
 },
 "nbformat": 4,
 "nbformat_minor": 5
}
