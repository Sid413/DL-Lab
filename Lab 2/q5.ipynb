{
 "cells": [
  {
   "cell_type": "code",
   "execution_count": 14,
   "id": "b6276e0d-04eb-4d4a-9e3d-bbe9033494b4",
   "metadata": {},
   "outputs": [],
   "source": [
    "import torch"
   ]
  },
  {
   "cell_type": "code",
   "execution_count": 15,
   "id": "2f0071e8-ae11-48bf-8d86-62a9d08401f1",
   "metadata": {},
   "outputs": [],
   "source": [
    "x = torch.tensor(2.0,requires_grad=True)"
   ]
  },
  {
   "cell_type": "code",
   "execution_count": 16,
   "id": "422f43ba-9f54-408e-8a8c-3a85aeb93f53",
   "metadata": {},
   "outputs": [],
   "source": [
    "y = 8*x*x*x*x + 3*x*x*x + 7*x*x + 6*x + 3"
   ]
  },
  {
   "cell_type": "markdown",
   "id": "dc4cadd3-0b13-4c95-ba92-f95b44c29e74",
   "metadata": {},
   "source": [
    "#### Analytical"
   ]
  },
  {
   "cell_type": "code",
   "execution_count": 17,
   "id": "35cab817-7513-425d-b09e-374f925998c1",
   "metadata": {},
   "outputs": [
    {
     "name": "stdout",
     "output_type": "stream",
     "text": [
      "dy/dx =  tensor(326., grad_fn=<AddBackward0>)\n"
     ]
    }
   ],
   "source": [
    "a = 8*x*x*x*x\n",
    "b = 3*x*x*x\n",
    "c = 7*x*x\n",
    "d = 6*x + 3\n",
    "y = a + b + c + d\n",
    "\n",
    "dy_da = 32*x*x*x\n",
    "dy_db = 9*x*x\n",
    "dy_dc = 14*x\n",
    "dy_dd = 6\n",
    "\n",
    "dy_dx = dy_da + dy_db + dy_dc + dy_dd \n",
    "\n",
    "print('dy/dx = ',dy_dx)"
   ]
  },
  {
   "cell_type": "markdown",
   "id": "84df63c9-9203-4a14-b0ec-2955202984a0",
   "metadata": {},
   "source": [
    "#### Automatic"
   ]
  },
  {
   "cell_type": "code",
   "execution_count": 18,
   "id": "52405fa2-16e5-4d3c-9da8-4f6efc666e3e",
   "metadata": {},
   "outputs": [
    {
     "name": "stdout",
     "output_type": "stream",
     "text": [
      "dy/dx =  tensor(326.)\n"
     ]
    }
   ],
   "source": [
    "y.backward()\n",
    "print('dy/dx = ',x.grad)"
   ]
  }
 ],
 "metadata": {
  "kernelspec": {
   "display_name": "Python 3 (ipykernel)",
   "language": "python",
   "name": "python3"
  },
  "language_info": {
   "codemirror_mode": {
    "name": "ipython",
    "version": 3
   },
   "file_extension": ".py",
   "mimetype": "text/x-python",
   "name": "python",
   "nbconvert_exporter": "python",
   "pygments_lexer": "ipython3",
   "version": "3.11.7"
  }
 },
 "nbformat": 4,
 "nbformat_minor": 5
}
