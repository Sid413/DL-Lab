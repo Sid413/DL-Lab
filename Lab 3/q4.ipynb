{
 "cells": [
  {
   "cell_type": "code",
   "execution_count": 65,
   "id": "48df7d66-b866-4c4b-96ed-9d1b5d9a9e93",
   "metadata": {},
   "outputs": [],
   "source": [
    "import torch\n",
    "import torch.nn as nn\n",
    "from torch.utils.data import Dataset, DataLoader\n",
    "import matplotlib.pyplot as plt"
   ]
  },
  {
   "cell_type": "code",
   "execution_count": 66,
   "id": "fbb10ef2-4126-4f97-bf2f-75dce7f5ded0",
   "metadata": {},
   "outputs": [],
   "source": [
    "x = torch.tensor([5.0, 7.0, 12.0, 16.0, 20.0])\n",
    "y = torch.tensor([40.0, 120.0, 180.0, 210.0, 240.0])\n",
    "\n",
    "learning_rate = torch.tensor(0.001)"
   ]
  },
  {
   "cell_type": "code",
   "execution_count": 67,
   "id": "28908883-7284-4cf9-b79c-38a424a5f4d4",
   "metadata": {},
   "outputs": [],
   "source": [
    "class CustomDataset(Dataset):\n",
    "    def __init__(self, text, labels):\n",
    "        self.x = x\n",
    "        self.y = y\n",
    "\n",
    "    def __len__(self):\n",
    "        return len(self.x)\n",
    "\n",
    "    def __getitem__(self, idx):\n",
    "        return self.x[idx], self.y[idx]"
   ]
  },
  {
   "cell_type": "code",
   "execution_count": 68,
   "id": "b83ff795-2aab-4779-b109-13400d2d725c",
   "metadata": {},
   "outputs": [],
   "source": [
    "dataset = CustomDataset(x, y)\n",
    "data_loader = DataLoader(dataset, batch_size=4, shuffle=True)"
   ]
  },
  {
   "cell_type": "code",
   "execution_count": 69,
   "id": "00f01626-5465-41f9-98c7-e94a4a9fa0bb",
   "metadata": {},
   "outputs": [],
   "source": [
    "class RegressionModel(nn.Module):\n",
    "    def __init__(self):\n",
    "        super().__init__()\n",
    "        self.w = nn.Parameter(torch.tensor(1., requires_grad=True))\n",
    "        self.b = nn.Parameter(torch.tensor(1., requires_grad=True))\n",
    "\n",
    "    def forward(self, x):\n",
    "        return self.w * x + self.b\n",
    "\n",
    "    def update(self):\n",
    "        self.w -= learning_rate * self.w.grad\n",
    "        self.b -= learning_rate * self.b.grad\n",
    "\n",
    "    def reset_grad(self):\n",
    "        self.w.grad.zero_()\n",
    "        self.b.grad.zero_()\n",
    "\n",
    "criterion = torch.nn.MSELoss()\n",
    "\n"
   ]
  },
  {
   "cell_type": "code",
   "execution_count": 70,
   "id": "7ffe08aa-c4d2-446c-9698-d6fa47073e82",
   "metadata": {},
   "outputs": [
    {
     "name": "stdout",
     "output_type": "stream",
     "text": [
      "The parameters are w=Parameter containing:\n",
      "tensor(9.3408, requires_grad=True), b=Parameter containing:\n",
      "tensor(1.5800, requires_grad=True) and loss=25359.80078125\n",
      "The parameters are w=Parameter containing:\n",
      "tensor(12.8640, requires_grad=True), b=Parameter containing:\n",
      "tensor(1.9577, requires_grad=True) and loss=481.9585876464844\n",
      "The parameters are w=Parameter containing:\n",
      "tensor(12.8548, requires_grad=True), b=Parameter containing:\n",
      "tensor(2.0908, requires_grad=True) and loss=481.513427734375\n",
      "The parameters are w=Parameter containing:\n",
      "tensor(12.8458, requires_grad=True), b=Parameter containing:\n",
      "tensor(2.2220, requires_grad=True) and loss=481.0804138183594\n",
      "The parameters are w=Parameter containing:\n",
      "tensor(12.8369, requires_grad=True), b=Parameter containing:\n",
      "tensor(2.3514, requires_grad=True) and loss=480.6590270996094\n"
     ]
    },
    {
     "data": {
      "image/png": "[encoded data removed]",
      "text/plain": [
       "<Figure size 640x480 with 1 Axes>"
      ]
     },
     "metadata": {},
     "output_type": "display_data"
    }
   ],
   "source": [
    "model = RegressionModel()\n",
    "\n",
    "loss_list = []\n",
    "optimizer = torch.optim.SGD(model.parameters(), lr = 0.001)\n",
    "for epochs in range(100):\n",
    "    loss = 0.0\n",
    "    for j in range(len(x)):\n",
    "        y_p = model.forward(x[j])\n",
    "        loss += criterion(y[j], y_p)\n",
    "\n",
    "    loss /= len(x)\n",
    "    loss_list.append(loss.item())\n",
    "    optimizer.zero_grad()\n",
    "    loss.backward()\n",
    "    optimizer.step()\n",
    "\n",
    "    with torch.no_grad():\n",
    "        model.update()\n",
    "    model.reset_grad()\n",
    "\n",
    "    if epochs%20==0:\n",
    "        print('The parameters are w={}, b={} and loss={}'.format(model.w, model.b, loss.item()))\n",
    "\n",
    "plt.plot(loss_list)\n",
    "plt.show()"
   ]
  }
 ],
 "metadata": {
  "kernelspec": {
   "display_name": "Python 3 (ipykernel)",
   "language": "python",
   "name": "python3"
  },
  "language_info": {
   "codemirror_mode": {
    "name": "ipython",
    "version": 3
   },
   "file_extension": ".py",
   "mimetype": "text/x-python",
   "name": "python",
   "nbconvert_exporter": "python",
   "pygments_lexer": "ipython3",
   "version": "3.11.7"
  }
 },
 "nbformat": 4,
 "nbformat_minor": 5
}
