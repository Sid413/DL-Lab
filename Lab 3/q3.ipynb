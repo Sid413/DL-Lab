{
 "cells": [
  {
   "cell_type": "code",
   "execution_count": 45,
   "id": "48df7d66-b866-4c4b-96ed-9d1b5d9a9e93",
   "metadata": {},
   "outputs": [],
   "source": [
    "import torch\n",
    "import matplotlib.pyplot as plt"
   ]
  },
  {
   "cell_type": "code",
   "execution_count": 46,
   "id": "fbb10ef2-4126-4f97-bf2f-75dce7f5ded0",
   "metadata": {},
   "outputs": [],
   "source": [
    "x = torch.tensor([5.0, 7.0, 12.0, 16.0, 20.0])\n",
    "y = torch.tensor([40.0, 120.0, 180.0, 210.0, 240.0])\n",
    "\n",
    "learning_rate = torch.tensor(0.001)"
   ]
  },
  {
   "cell_type": "code",
   "execution_count": 47,
   "id": "00f01626-5465-41f9-98c7-e94a4a9fa0bb",
   "metadata": {},
   "outputs": [],
   "source": [
    "class RegressionModel:\n",
    "    def __init__(self):\n",
    "        self.w = torch.tensor(1., requires_grad=True)\n",
    "        self.b = torch.tensor(1., requires_grad=True)\n",
    "\n",
    "    def forward(self, x):\n",
    "        return self.w * x + self.b\n",
    "\n",
    "    def update(self):\n",
    "        self.w -= learning_rate * self.w.grad\n",
    "        self.b -= learning_rate * self.b.grad\n",
    "\n",
    "    def reset_grad(self):\n",
    "        self.w.grad.zero_()\n",
    "        self.b.grad.zero_()\n",
    "\n",
    "def criterion(yj, y_p):\n",
    "    return (yj - y_p)**2"
   ]
  },
  {
   "cell_type": "code",
   "execution_count": 48,
   "id": "7ffe08aa-c4d2-446c-9698-d6fa47073e82",
   "metadata": {},
   "outputs": [
    {
     "name": "stdout",
     "output_type": "stream",
     "text": [
      "The parameters are w=5.170400619506836, b=1.2899999618530273 and loss=25359.80078125\n",
      "The parameters are w=12.769421577453613, b=1.8462798595428467 and loss=486.63970947265625\n",
      "The parameters are w=12.867484092712402, b=1.8869833946228027 and loss=482.1866760253906\n",
      "The parameters are w=12.866495132446289, b=1.9207613468170166 and loss=482.07171630859375\n",
      "The parameters are w=12.864205360412598, b=1.9543311595916748 and loss=481.958740234375\n",
      "The parameters are w=12.861907005310059, b=1.987782597541809 and loss=481.84625244140625\n",
      "The parameters are w=12.85961627960205, b=2.0211167335510254 and loss=481.7345275878906\n",
      "The parameters are w=12.85733413696289, b=2.0543339252471924 and loss=481.6238708496094\n",
      "The parameters are w=12.855058670043945, b=2.087435007095337 and loss=481.51361083984375\n",
      "The parameters are w=12.852792739868164, b=2.120420217514038 and loss=481.40411376953125\n"
     ]
    },
    {
     "data": {
      "image/png": "[encoded data removed]",
      "text/plain": [
       "<Figure size 640x480 with 1 Axes>"
      ]
     },
     "metadata": {},
     "output_type": "display_data"
    }
   ],
   "source": [
    "model = RegressionModel()\n",
    "\n",
    "loss_list = []\n",
    "\n",
    "for epochs in range(100):\n",
    "    loss = 0.0\n",
    "    for j in range(len(x)):\n",
    "        y_p = model.forward(x[j])\n",
    "        loss += criterion(y[j], y_p)\n",
    "\n",
    "    loss /= len(x)\n",
    "    loss_list.append(loss.item())\n",
    "    loss.backward()\n",
    "\n",
    "    with torch.no_grad():\n",
    "        model.update()\n",
    "    model.reset_grad()\n",
    "\n",
    "    if epochs%10==0:\n",
    "        print('The parameters are w={}, b={} and loss={}'.format(model.w, model.b, loss.item()))\n",
    "\n",
    "plt.plot(loss_list)\n",
    "plt.show()"
   ]
  }
 ],
 "metadata": {
  "kernelspec": {
   "display_name": "Python 3 (ipykernel)",
   "language": "python",
   "name": "python3"
  },
  "language_info": {
   "codemirror_mode": {
    "name": "ipython",
    "version": 3
   },
   "file_extension": ".py",
   "mimetype": "text/x-python",
   "name": "python",
   "nbconvert_exporter": "python",
   "pygments_lexer": "ipython3",
   "version": "3.11.7"
  }
 },
 "nbformat": 4,
 "nbformat_minor": 5
}
