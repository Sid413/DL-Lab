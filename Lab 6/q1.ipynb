{
 "cells": [
  {
   "cell_type": "code",
   "execution_count": 20,
   "id": "4fc3910c-cff0-4f20-a55d-42113a132169",
   "metadata": {},
   "outputs": [],
   "source": [
    "import torch\n",
    "from matplotlib import pyplot as plt\n",
    "from torch.utils.data import Dataset, DataLoader\n",
    "import torchvision.datasets as datasets\n",
    "from torchvision.transforms import ToTensor\n",
    "import torch.nn as nn\n",
    "import numpy as np\n",
    "from collections import OrderedDict"
   ]
  },
  {
   "cell_type": "code",
   "execution_count": 21,
   "id": "c733673d-3cea-4542-a2c4-352dd9b1eb3b",
   "metadata": {},
   "outputs": [],
   "source": [
    "class MyDataset(Dataset):\n",
    "    def __init__(self, X, Y):\n",
    "        self.X = X\n",
    "        self.Y = Y\n",
    "\n",
    "    def __len__(self):\n",
    "        return len(self.X)\n",
    "\n",
    "    def __getitem__(self, idx):\n",
    "        return self.X[idx].to(device), self.Y[idx].to(device)"
   ]
  },
  {
   "cell_type": "code",
   "execution_count": 22,
   "id": "71a69426-d27a-4d89-a838-b88763aa5713",
   "metadata": {},
   "outputs": [],
   "source": [
    "class CNNClassifier(nn.Module):\n",
    "    def __init__(self):\n",
    "        super().__init__()\n",
    "        self.net =nn.Sequential(nn.Conv2d(1,64,kernel_size=3),\n",
    "                                nn.ReLU(),\n",
    "                                nn.MaxPool2d((2,2), stride=2),\n",
    "                                nn.Conv2d(64, 128, kernel_size=3),\n",
    "                                nn.ReLU(),\n",
    "                                nn.MaxPool2d((2,2), stride=2),\n",
    "                                nn.Conv2d(128, 64, kernel_size=3),\n",
    "                                nn.ReLU(),\n",
    "                                nn.MaxPool2d((2, 2), stride=2)\n",
    "        )\n",
    "        self.classification_head = nn.Sequential(nn.Linear(64, 20, bias=True),\n",
    "                                nn.ReLU(),\n",
    "                                nn.Linear(20, 10, bias=True))\n",
    "\n",
    "    def forward(self, x):\n",
    "        features = self.net(x)\n",
    "        return self.classification_head(features.view(batch_size,-1))"
   ]
  },
  {
   "cell_type": "code",
   "execution_count": 23,
   "id": "14ba5aa3-af0f-4e6f-a060-0ebd349e875c",
   "metadata": {},
   "outputs": [],
   "source": [
    "mnist_testset = datasets.FashionMNIST(root='./data', train=False, download=True, transform = ToTensor())\n",
    "\n",
    "batch_size = 4\n",
    "test_loader = DataLoader(mnist_testset, batch_size=batch_size, shuffle=False)"
   ]
  },
  {
   "cell_type": "code",
   "execution_count": 24,
   "id": "643bd778-1d7d-4175-a382-db61735d3c4a",
   "metadata": {},
   "outputs": [
    {
     "data": {
      "text/plain": [
       "CNNClassifier(\n",
       "  (net): Sequential(\n",
       "    (0): Conv2d(1, 64, kernel_size=(3, 3), stride=(1, 1))\n",
       "    (1): ReLU()\n",
       "    (2): MaxPool2d(kernel_size=(2, 2), stride=2, padding=0, dilation=1, ceil_mode=False)\n",
       "    (3): Conv2d(64, 128, kernel_size=(3, 3), stride=(1, 1))\n",
       "    (4): ReLU()\n",
       "    (5): MaxPool2d(kernel_size=(2, 2), stride=2, padding=0, dilation=1, ceil_mode=False)\n",
       "    (6): Conv2d(128, 64, kernel_size=(3, 3), stride=(1, 1))\n",
       "    (7): ReLU()\n",
       "    (8): MaxPool2d(kernel_size=(2, 2), stride=2, padding=0, dilation=1, ceil_mode=False)\n",
       "  )\n",
       "  (classification_head): Sequential(\n",
       "    (0): Linear(in_features=64, out_features=20, bias=True)\n",
       "    (1): ReLU()\n",
       "    (2): Linear(in_features=20, out_features=10, bias=True)\n",
       "  )\n",
       ")"
      ]
     },
     "execution_count": 24,
     "metadata": {},
     "output_type": "execute_result"
    }
   ],
   "source": [
    "device = torch.device(\"cuda\" if torch.cuda.is_available() else \"cpu\")\n",
    "\n",
    "model = CNNClassifier()\n",
    "model = torch.load(\"ModelFiles/model.pt\")\n",
    "model.to(device)"
   ]
  },
  {
   "cell_type": "code",
   "execution_count": 25,
   "id": "23dbfa2d-b5db-4ef9-912b-25c9061dc67f",
   "metadata": {},
   "outputs": [
    {
     "name": "stdout",
     "output_type": "stream",
     "text": [
      "Model's state_dict:\n",
      "net.0.weight \t torch.Size([64, 1, 3, 3])\n",
      "net.0.bias \t torch.Size([64])\n",
      "net.3.weight \t torch.Size([128, 64, 3, 3])\n",
      "net.3.bias \t torch.Size([128])\n",
      "net.6.weight \t torch.Size([64, 128, 3, 3])\n",
      "net.6.bias \t torch.Size([64])\n",
      "classification_head.0.weight \t torch.Size([20, 64])\n",
      "classification_head.0.bias \t torch.Size([20])\n",
      "classification_head.2.weight \t torch.Size([10, 20])\n",
      "classification_head.2.bias \t torch.Size([10])\n",
      "\n"
     ]
    }
   ],
   "source": [
    "print(\"Model's state_dict:\")\n",
    "for param_tensor in model.state_dict().keys():\n",
    "    print(param_tensor, \"\\t\",model.state_dict()[param_tensor].size())\n",
    "print()"
   ]
  },
  {
   "cell_type": "code",
   "execution_count": 26,
   "id": "367fd3bb-706f-43ef-a9b3-1636c1e37ff9",
   "metadata": {},
   "outputs": [
    {
     "name": "stdout",
     "output_type": "stream",
     "text": [
      "The overall accuracy is 8.510000228881836\n"
     ]
    }
   ],
   "source": [
    "model.eval()\n",
    "correct = 0\n",
    "total = 0\n",
    "for i, vdata in enumerate(test_loader):\n",
    "    tinputs, tlabels = vdata\n",
    "    tinputs = tinputs.to(device)\n",
    "    tlabels = tlabels.to(device)\n",
    "    toutputs = model(tinputs)\n",
    "\n",
    "    _, predicted = torch.max(toutputs, 1)\n",
    "    total += tlabels.size(0)\n",
    "    correct += (predicted == tlabels).sum()\n",
    "\n",
    "accuracy = 100.0 * correct / total\n",
    "print(\"The overall accuracy is {}\".format(accuracy))"
   ]
  },
  {
   "cell_type": "code",
   "execution_count": null,
   "id": "0256edfe-c8b8-4dc8-b108-b1f3a5ad51ab",
   "metadata": {},
   "outputs": [],
   "source": []
  }
 ],
 "metadata": {
  "kernelspec": {
   "display_name": "Python 3 (ipykernel)",
   "language": "python",
   "name": "python3"
  },
  "language_info": {
   "codemirror_mode": {
    "name": "ipython",
    "version": 3
   },
   "file_extension": ".py",
   "mimetype": "text/x-python",
   "name": "python",
   "nbconvert_exporter": "python",
   "pygments_lexer": "ipython3",
   "version": "3.11.7"
  }
 },
 "nbformat": 4,
 "nbformat_minor": 5
}
