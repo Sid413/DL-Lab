{
 "cells": [
  {
   "cell_type": "code",
   "execution_count": 65,
   "id": "ca943bab-7c03-4746-9d47-69acf20e7493",
   "metadata": {},
   "outputs": [],
   "source": [
    "import torch\n",
    "import math\n",
    "import numpy as np\n",
    "import torch.nn.functional as F"
   ]
  },
  {
   "cell_type": "code",
   "execution_count": 66,
   "id": "bc71c8eb-c412-449c-bd36-39ddc297ce51",
   "metadata": {},
   "outputs": [
    {
     "name": "stdout",
     "output_type": "stream",
     "text": [
      "image= tensor([[0.7300, 0.2897, 0.5947, 0.4903, 0.8618, 0.9605],\n",
      "        [0.2281, 0.0122, 0.6467, 0.5472, 0.3495, 0.8075],\n",
      "        [0.1834, 0.6166, 0.1790, 0.5245, 0.7933, 0.3514],\n",
      "        [0.7414, 0.6898, 0.2943, 0.3254, 0.1389, 0.8172],\n",
      "        [0.1909, 0.8213, 0.5223, 0.0047, 0.2224, 0.2326],\n",
      "        [0.1062, 0.6640, 0.1679, 0.9806, 0.2115, 0.2937]])\n"
     ]
    }
   ],
   "source": [
    "image = torch.rand(6,6)\n",
    "print(\"image=\", image)"
   ]
  },
  {
   "cell_type": "code",
   "execution_count": 67,
   "id": "8077e7d8-e17a-4471-8969-2d56d5a7e9e1",
   "metadata": {},
   "outputs": [
    {
     "name": "stdout",
     "output_type": "stream",
     "text": [
      "image.shape = torch.Size([1, 6, 6])\n",
      "image.shape = torch.Size([1, 1, 6, 6])\n"
     ]
    }
   ],
   "source": [
    "image = image.unsqueeze(dim=0)\n",
    "print(\"image.shape =\", image.shape)\n",
    "image = image.unsqueeze(dim=0)\n",
    "print(\"image.shape =\", image.shape)"
   ]
  },
  {
   "cell_type": "code",
   "execution_count": 68,
   "id": "9c519e84-6562-432c-8c7e-36596103aefd",
   "metadata": {},
   "outputs": [
    {
     "name": "stdout",
     "output_type": "stream",
     "text": [
      "image = tensor([[[[0.7300, 0.2897, 0.5947, 0.4903, 0.8618, 0.9605],\n",
      "          [0.2281, 0.0122, 0.6467, 0.5472, 0.3495, 0.8075],\n",
      "          [0.1834, 0.6166, 0.1790, 0.5245, 0.7933, 0.3514],\n",
      "          [0.7414, 0.6898, 0.2943, 0.3254, 0.1389, 0.8172],\n",
      "          [0.1909, 0.8213, 0.5223, 0.0047, 0.2224, 0.2326],\n",
      "          [0.1062, 0.6640, 0.1679, 0.9806, 0.2115, 0.2937]]]])\n",
      "kernel = tensor([[1., 1., 1.],\n",
      "        [1., 1., 1.],\n",
      "        [1., 1., 1.]])\n"
     ]
    }
   ],
   "source": [
    "print(\"image =\", image)\n",
    "kernel = torch.ones(3,3)\n",
    "print(\"kernel =\", kernel)\n",
    "kernel = kernel.unsqueeze(dim=0)\n",
    "kernel = kernel.unsqueeze(dim=0)"
   ]
  },
  {
   "cell_type": "code",
   "execution_count": 81,
   "id": "9d6bc1e5-859e-4cb9-9d06-4a70b95e4e89",
   "metadata": {},
   "outputs": [
    {
     "name": "stdout",
     "output_type": "stream",
     "text": [
      "outimage = tensor([[[[3.4804, 3.9009, 4.9870, 5.6859],\n",
      "          [3.5915, 3.8357, 3.7987, 4.6547],\n",
      "          [4.2391, 3.9779, 3.0047, 3.4102],\n",
      "          [4.1981, 4.4703, 2.8678, 3.2268]]]])\n",
      "Output image dimension :  torch.Size([1, 1, 4, 4])\n"
     ]
    }
   ],
   "source": [
    "outimage = F.conv2d(image, kernel, stride=1, padding=0)\n",
    "print(\"outimage =\", outimage)\n",
    "print(\"Output image dimension : \", outimage.shape)"
   ]
  },
  {
   "cell_type": "code",
   "execution_count": 82,
   "id": "4f511545-e90c-4947-b4bd-b4a569584ed4",
   "metadata": {},
   "outputs": [
    {
     "name": "stdout",
     "output_type": "stream",
     "text": [
      "outimage = tensor([[[[1.2600, 2.5808, 4.0168],\n",
      "          [2.4715, 3.8357, 4.6547],\n",
      "          [3.2136, 4.4703, 3.2268]]]])\n",
      "Output image dimension :  torch.Size([1, 1, 3, 3])\n"
     ]
    }
   ],
   "source": [
    "outimage = F.conv2d(image, kernel, stride=2, padding=1)\n",
    "print(\"outimage =\", outimage)\n",
    "print(\"Output image dimension : \", outimage.shape)"
   ]
  },
  {
   "cell_type": "code",
   "execution_count": 84,
   "id": "3fffc3d6-f418-4bd5-b11f-49e2be701291",
   "metadata": {},
   "outputs": [],
   "source": [
    "def hout(hin, k, stride, pad):\n",
    "    return math.floor((hin - k + 2*pad)/stride) + 1"
   ]
  },
  {
   "cell_type": "code",
   "execution_count": 89,
   "id": "ba48dc28-5f04-4cfc-b79b-2842a35dead9",
   "metadata": {},
   "outputs": [
    {
     "data": {
      "text/plain": [
       "3"
      ]
     },
     "execution_count": 89,
     "metadata": {},
     "output_type": "execute_result"
    }
   ],
   "source": [
    "hout(6, 3, 2, 1)"
   ]
  },
  {
   "cell_type": "code",
   "execution_count": 94,
   "id": "f90d8893-6f9e-4415-9cc7-dd92d635f0cc",
   "metadata": {},
   "outputs": [
    {
     "name": "stdout",
     "output_type": "stream",
     "text": [
      "54\n"
     ]
    }
   ],
   "source": [
    "params = image.shape[2] * kernel.shape[2]**2 * outimage.shape[1] \n",
    "print(params)"
   ]
  }
 ],
 "metadata": {
  "kernelspec": {
   "display_name": "Python 3 (ipykernel)",
   "language": "python",
   "name": "python3"
  },
  "language_info": {
   "codemirror_mode": {
    "name": "ipython",
    "version": 3
   },
   "file_extension": ".py",
   "mimetype": "text/x-python",
   "name": "python",
   "nbconvert_exporter": "python",
   "pygments_lexer": "ipython3",
   "version": "3.11.7"
  }
 },
 "nbformat": 4,
 "nbformat_minor": 5
}
